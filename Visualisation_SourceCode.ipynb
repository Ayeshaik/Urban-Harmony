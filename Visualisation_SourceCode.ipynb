{
  "metadata": {
    "language_info": {
      "codemirror_mode": {
        "name": "python",
        "version": 3
      },
      "file_extension": ".py",
      "mimetype": "text/x-python",
      "name": "python",
      "nbconvert_exporter": "python",
      "pygments_lexer": "ipython3",
      "version": "3.8"
    },
    "kernelspec": {
      "name": "python",
      "display_name": "Python (Pyodide)",
      "language": "python"
    }
  },
  "nbformat_minor": 4,
  "nbformat": 4,
  "cells": [
    {
      "cell_type": "code",
      "source": "import pandas as pd\nimport matplotlib.pyplot as plt\nimport numpy as np\n\n# To create a Visualisation on parking complaints and their top three descriptors each year\n# Load the dataset\n# Replace 'your_dataset.csv' with the actual path to your dataset\n\ndf = pd.read_csv('/Users/abdullah/Downloads/311_Service_Requests_from_2010_to_Present.csv', low_memory=False, dtype={'Created Date': 'str', 'Complaint Type': 'str'})\n\n# Convert the 'Created Date' column to datetime format\ndf['Created Date'] = pd.to_datetime(df['Created Date'])\n\n# Extract year from the 'Created Date' column\ndf['Year'] = df['Created Date'].dt.year\n\n# Filter data for \"Illegal Parking\" complaints\nillegal_parking_df = df[df['Complaint Type'] == 'Illegal Parking']\n\n# Group by year and descriptor, count the number of complaints, and reset index\ngrouped_data = illegal_parking_df.groupby(['Year', 'Descriptor']).size().reset_index(name='Num_Complaints')\n\n# Get the top 3 descriptors for each year\ntop3_descriptors = grouped_data.groupby('Year').apply(lambda x: x.nlargest(3, 'Num_Complaints')).reset_index(drop=True)\n\n# Pivot the data for the stacked bar chart\npivot_data = top3_descriptors.pivot_table(index='Year', columns='Descriptor', values='Num_Complaints', fill_value=0)\n\n# Create a stacked bar chart using matplotlib\nfig, ax = plt.subplots(figsize=(12, 8))\n\n# Change the color map for better visibility of different descriptors\ncmap = plt.get_cmap('tab10')\ncolors = [cmap(i) for i in range(pivot_data.shape[1])]\n\nfor i, (colname, color) in enumerate(zip(pivot_data.columns, colors)):\n    ax.bar(pivot_data.index, pivot_data[colname], label=colname, color=color, bottom=np.sum(pivot_data.iloc[:, :i], axis=1))\n\nax.set_title('Top 3 Illegal Parking Descriptors Over the Years')\nax.set_xlabel('Year')\nax.set_ylabel('Number of Complaints')\nax.legend(title='Descriptor', loc='upper right')\nplt.show()",
      "metadata": {},
      "execution_count": null,
      "outputs": []
    }
  ]
}